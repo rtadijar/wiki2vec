{
 "cells": [
  {
   "cell_type": "code",
   "execution_count": null,
   "metadata": {},
   "outputs": [],
   "source": [
    "import re\n",
    "import pickle\n",
    "import random\n",
    "\n",
    "from collections import defaultdict\n",
    "\n",
    "import torch\n",
    "import numpy as np\n",
    "\n",
    "import random"
   ]
  },
  {
   "cell_type": "code",
   "execution_count": null,
   "metadata": {},
   "outputs": [],
   "source": [
    "trans = str.maketrans('(),_-/', '      ','\\\\\"')"
   ]
  },
  {
   "cell_type": "markdown",
   "metadata": {},
   "source": [
    "#### GET VOCAB AND PAGES"
   ]
  },
  {
   "cell_type": "code",
   "execution_count": null,
   "metadata": {},
   "outputs": [],
   "source": [
    "pages_dict = dict()\n",
    "\n",
    "word_cnt = 1 # 0 reserved\n",
    "word2idx = dict()\n",
    "idx2word = dict()"
   ]
  },
  {
   "cell_type": "code",
   "execution_count": null,
   "metadata": {},
   "outputs": [],
   "source": [
    "with open(r'page.sql', 'r', encoding='utf8') as _if:\n",
    "    \n",
    "    for i, line in enumerate(_if):\n",
    "        \n",
    "        if (i + 1) % 100 == 0:\n",
    "            print('processed line {}'.format(i+1))\n",
    "        \n",
    "        \n",
    "        matches = re.findall('\\(([^,]*),0,\\'(.*?)\\',.*?\\)', line)\n",
    "    \n",
    "        for match in matches:    \n",
    "            title = match[1].translate(trans).split()\n",
    "            \n",
    "            if len(title) > 10:\n",
    "                continue\n",
    "            \n",
    "            for token in title:\n",
    "                if token not in word2idx:\n",
    "                    word2idx[token] = word_cnt\n",
    "                    idx2word[word_cnt] = token\n",
    "                    \n",
    "                    word_cnt += 1\n",
    "            \n",
    "            title = [word2idx[token] for token in title]\n",
    "            \n",
    "            pages_dict[int(match[0])] = title"
   ]
  },
  {
   "cell_type": "markdown",
   "metadata": {},
   "source": [
    "#### SAVE"
   ]
  },
  {
   "cell_type": "code",
   "execution_count": null,
   "metadata": {},
   "outputs": [],
   "source": [
    "with open('word2idx.pickle', 'wb') as of:\n",
    "    pickle.dump(word2idx, of)\n",
    "    \n",
    "with open('idx2word.pickle', 'wb') as of:\n",
    "    pickle.dump(idx2word, of)\n",
    "    \n",
    "with open('pages_dict.pickle', 'wb') as of:\n",
    "    pickle.dump(pages_dict, of)    \n",
    "    "
   ]
  },
  {
   "cell_type": "markdown",
   "metadata": {},
   "source": [
    "#### LOAD"
   ]
  },
  {
   "cell_type": "code",
   "execution_count": null,
   "metadata": {},
   "outputs": [],
   "source": [
    "with open('word2idx.pickle', 'rb') as _if:\n",
    "    word2idx = pickle.load(_if)\n",
    "    \n",
    "with open('idx2word.pickle', 'rb') as _if:\n",
    "    idx2word = pickle.load(_if)\n",
    "    \n",
    "with open('pages_dict.pickle', 'rb') as _if:\n",
    "    pages_dict = pickle.load(_if)\n",
    "    \n",
    "word_cnt = len(word2idx)"
   ]
  },
  {
   "cell_type": "markdown",
   "metadata": {},
   "source": [
    "#### GET LINKS"
   ]
  },
  {
   "cell_type": "code",
   "execution_count": null,
   "metadata": {},
   "outputs": [],
   "source": [
    "links_dict = defaultdict(list)"
   ]
  },
  {
   "cell_type": "code",
   "execution_count": null,
   "metadata": {},
   "outputs": [],
   "source": [
    "with open('pagelinks.sql','r', encoding='utf8', errors='ignore') as _if:\n",
    "    for i, line in enumerate(_if):\n",
    "    \n",
    "        if (i + 1) % 1000 == 0:\n",
    "            print('processed line {}'.format(i+1))\n",
    "        \n",
    "        matches = re.findall('\\(([0-9]*),0,\\'(.*?)\\',0\\)', line)\n",
    "\n",
    "        for match in matches:\n",
    "            if int(match[0]) in pages_dict:\n",
    "                \n",
    "                title = match[1].translate(trans).split()\n",
    "                \n",
    "                if len(title) > 10:\n",
    "                    continue\n",
    "                    \n",
    "                to_continue = False\n",
    "                \n",
    "                for token in title:\n",
    "                    if token not in word2idx:\n",
    "                        to_continue = True\n",
    "                        break\n",
    "                \n",
    "                if to_continue:\n",
    "                    continue      \n",
    "                        \n",
    "                title = [word2idx[token] for token in title]\n",
    "            \n",
    "                links_dict[tuple(pages_dict[int(match[0])])].append(title)"
   ]
  }
 ],
 "metadata": {
  "kernelspec": {
   "display_name": "wikiracer",
   "language": "python",
   "name": "wikiracer"
  },
  "language_info": {
   "codemirror_mode": {
    "name": "ipython",
    "version": 3
   },
   "file_extension": ".py",
   "mimetype": "text/x-python",
   "name": "python",
   "nbconvert_exporter": "python",
   "pygments_lexer": "ipython3",
   "version": "3.8.5"
  }
 },
 "nbformat": 4,
 "nbformat_minor": 4
}
