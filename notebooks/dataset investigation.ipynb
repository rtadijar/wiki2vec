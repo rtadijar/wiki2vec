{
 "cells": [
  {
   "cell_type": "code",
   "execution_count": 1,
   "metadata": {},
   "outputs": [
    {
     "name": "stdout",
     "output_type": "stream",
     "text": [
      "/home/tadija/Desktop/wikiracer\n"
     ]
    }
   ],
   "source": [
    "%cd .."
   ]
  },
  {
   "cell_type": "code",
   "execution_count": 2,
   "metadata": {},
   "outputs": [],
   "source": [
    "from model import *\n",
    "from util import *\n",
    "from client import *"
   ]
  },
  {
   "cell_type": "code",
   "execution_count": 3,
   "metadata": {},
   "outputs": [
    {
     "data": {
      "text/plain": [
       "TitleEmbedding(\n",
       "  (embeddings): Embedding(999994, 300, padding_idx=0, sparse=True)\n",
       "  (mh_attn): MultiHeadAttention(\n",
       "    (dropout): Dropout(p=0.1, inplace=False)\n",
       "    (w_q): Linear(in_features=300, out_features=300, bias=False)\n",
       "    (w_k): Linear(in_features=300, out_features=300, bias=False)\n",
       "    (w_v): Linear(in_features=300, out_features=300, bias=False)\n",
       "    (w_fc): Linear(in_features=300, out_features=300, bias=False)\n",
       "    (attention): MultiplicativeAttention(\n",
       "      (dropout): Dropout(p=0.1, inplace=False)\n",
       "    )\n",
       "    (layer_norm): LayerNorm((300,), eps=1e-06, elementwise_affine=True)\n",
       "  )\n",
       "  (nff): NonlinearFF(\n",
       "    (w_1): Linear(in_features=300, out_features=1200, bias=True)\n",
       "    (w_2): Linear(in_features=1200, out_features=300, bias=True)\n",
       "    (layer_norm): LayerNorm((300,), eps=1e-06, elementwise_affine=True)\n",
       "    (dropout): Dropout(p=0.1, inplace=False)\n",
       "  )\n",
       "  (add_attn): AdditiveSelfAttention(\n",
       "    (dropout): Dropout(p=0.1, inplace=False)\n",
       "    (layer_norm): LayerNorm((300,), eps=1e-06, elementwise_affine=True)\n",
       "    (w): Linear(in_features=300, out_features=300, bias=True)\n",
       "  )\n",
       "  (layer_norm): LayerNorm((300,), eps=1e-06, elementwise_affine=True)\n",
       ")"
      ]
     },
     "execution_count": 3,
     "metadata": {},
     "output_type": "execute_result"
    }
   ],
   "source": [
    "word2idx = load_embeddings('embeddings/wiki-news-300d-1M.vec', get_embeddings=False, get_w2i=True)[1]\n",
    "\n",
    "title_embedding = torch.load('models/model0_5.0.pt', map_location='cpu')\n",
    "title_embedding.eval()"
   ]
  },
  {
   "cell_type": "code",
   "execution_count": 4,
   "metadata": {},
   "outputs": [],
   "source": [
    "def sim(text1, text2, word2idx):\n",
    "    text1 = encode_seq(parse_text(text1), word2idx).unsqueeze(0)\n",
    "    text2 = encode_seq(parse_text(text2), word2idx).unsqueeze(0)    \n",
    "\n",
    "    e1 = title_embedding(text1).squeeze(0)\n",
    "    e2 = title_embedding(text2).squeeze(0)\n",
    "    \n",
    "    return e1.dot(e2) / (e1.norm() * e2.norm())\n",
    "\n",
    "def emb(text, word2idx):\n",
    "    return title_embedding(encode_seq(parse_text(text), word2idx).unsqueeze(0)).squeeze(0)"
   ]
  },
  {
   "cell_type": "code",
   "execution_count": 13,
   "metadata": {},
   "outputs": [
    {
     "data": {
      "text/plain": [
       "tensor(0.8202, grad_fn=<DivBackward0>)"
      ]
     },
     "execution_count": 13,
     "metadata": {},
     "output_type": "execute_result"
    }
   ],
   "source": [
    "sim('Philosophy', 'Philosophy of music', word2idx)"
   ]
  },
  {
   "cell_type": "code",
   "execution_count": null,
   "metadata": {},
   "outputs": [],
   "source": [
    "title_embedding.mh_attn.v_agreement"
   ]
  },
  {
   "cell_type": "code",
   "execution_count": null,
   "metadata": {},
   "outputs": [],
   "source": [
    "word2idx"
   ]
  },
  {
   "cell_type": "code",
   "execution_count": null,
   "metadata": {},
   "outputs": [],
   "source": [
    "encode_seq(parse_text('Levers'), word2idx)"
   ]
  },
  {
   "cell_type": "code",
   "execution_count": null,
   "metadata": {},
   "outputs": [],
   "source": [
    "t = torch.rand(2, 2, 2, 3)"
   ]
  },
  {
   "cell_type": "code",
   "execution_count": null,
   "metadata": {},
   "outputs": [],
   "source": [
    "print(torch.einsum('ijkl, ijml->', t, t))\n",
    "print(torch.einsum('ijkl, ijkl->', t, t))\n",
    "\n",
    "print(  torch.einsum('ijkl, ijkl->ij', t, t).sum()           )"
   ]
  },
  {
   "cell_type": "code",
   "execution_count": null,
   "metadata": {},
   "outputs": [],
   "source": [
    "embeddings"
   ]
  },
  {
   "cell_type": "code",
   "execution_count": null,
   "metadata": {},
   "outputs": [],
   "source": []
  }
 ],
 "metadata": {
  "kernelspec": {
   "display_name": "wikiracer",
   "language": "python",
   "name": "wikiracer"
  },
  "language_info": {
   "codemirror_mode": {
    "name": "ipython",
    "version": 3
   },
   "file_extension": ".py",
   "mimetype": "text/x-python",
   "name": "python",
   "nbconvert_exporter": "python",
   "pygments_lexer": "ipython3",
   "version": "3.8.5"
  }
 },
 "nbformat": 4,
 "nbformat_minor": 4
}
